{
 "cells": [
  {
   "cell_type": "code",
   "execution_count": 25,
   "metadata": {},
   "outputs": [],
   "source": [
    "import seaborn as sns\n",
    "import matplotlib.pyplot as plt\n",
    "%matplotlib inline"
   ]
  },
  {
   "cell_type": "code",
   "execution_count": 27,
   "metadata": {},
   "outputs": [
    {
     "data": {
      "image/png": "[encoded data removed]",
      "text/plain": [
       "<Figure size 432x288 with 1 Axes>"
      ]
     },
     "metadata": {},
     "output_type": "display_data"
    }
   ],
   "source": [
    "x =['sun', 'mon', 'fri', 'sat', 'tue', 'wed', 'thu'] \n",
    "y =[5, 6.7, 4, 6, 2, 4.9, 1.8]\n",
    "first =sns.stripplot(x, y)\n",
    "first.set(xlabel ='weekday', ylabel ='Amount_spend') \n",
    "plt.title('My first graph'); \n",
    "plt.show()"
   ]
  },
  {
   "cell_type": "code",
   "execution_count": 43,
   "metadata": {},
   "outputs": [],
   "source": [
    "### or else italic font"
   ]
  },
  {
   "cell_type": "markdown",
   "metadata": {},
   "source": [
    "## can also do this way"
   ]
  },
  {
   "cell_type": "markdown",
   "metadata": {},
   "source": [
    "# try this big font guys"
   ]
  },
  {
   "cell_type": "markdown",
   "metadata": {},
   "source": [
    "**whats this does  bold dear"
   ]
  },
  {
   "cell_type": "code",
   "execution_count": 39,
   "metadata": {},
   "outputs": [
    {
     "data": {
      "text/plain": [
       "Text(0.5,1,'gross')"
      ]
     },
     "execution_count": 39,
     "metadata": {},
     "output_type": "execute_result"
    },
    {
     "data": {
      "image/png": "[encoded data removed]",
      "text/plain": [
       "<Figure size 432x288 with 1 Axes>"
      ]
     },
     "metadata": {},
     "output_type": "display_data"
    }
   ],
   "source": [
    "import numpy as np\n",
    "a=np.arange(20)\n",
    "b=np.array([33,44,5,5,5,5,2,4,4,3,3,3,3,3,5,5,5])\n",
    "a=sns.stripplot(x,y)\n",
    "plt.xlabel('something')\n",
    "plt.ylabel('nothing')\n",
    "plt.title('gross')"
   ]
  },
  {
   "cell_type": "code",
   "execution_count": null,
   "metadata": {},
   "outputs": [],
   "source": []
  }
 ],
 "metadata": {
  "kernelspec": {
   "display_name": "Python 3",
   "language": "python",
   "name": "python3"
  },
  "language_info": {
   "codemirror_mode": {
    "name": "ipython",
    "version": 3
   },
   "file_extension": ".py",
   "mimetype": "text/x-python",
   "name": "python",
   "nbconvert_exporter": "python",
   "pygments_lexer": "ipython3",
   "version": "3.6.5"
  }
 },
 "nbformat": 4,
 "nbformat_minor": 2
}
